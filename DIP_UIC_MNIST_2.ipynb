{
  "nbformat": 4,
  "nbformat_minor": 0,
  "metadata": {
    "colab": {
      "provenance": [],
      "authorship_tag": "ABX9TyPDVuCLvcDMfeFjTXlDP4EX",
      "include_colab_link": true
    },
    "kernelspec": {
      "name": "python3",
      "display_name": "Python 3"
    },
    "language_info": {
      "name": "python"
    }
  },
  "cells": [
    {
      "cell_type": "markdown",
      "metadata": {
        "id": "view-in-github",
        "colab_type": "text"
      },
      "source": [
        "<a href=\"https://colab.research.google.com/github/mhmd2015/ImageProcessing1UIC/blob/main/DIP_UIC_MNIST_2.ipynb\" target=\"_parent\"><img src=\"https://colab.research.google.com/assets/colab-badge.svg\" alt=\"Open In Colab\"/></a>"
      ]
    },
    {
      "cell_type": "code",
      "execution_count": 1,
      "metadata": {
        "id": "J0E2FdROyhX0"
      },
      "outputs": [],
      "source": [
        "import numpy as np\n",
        "from tensorflow.keras.datasets import mnist"
      ]
    },
    {
      "cell_type": "code",
      "source": [
        "\n",
        "def compute_accuracy(predictions, labels):\n",
        "    return np.sum(predictions == labels) / len(labels)\n",
        "\n",
        "# Load and preprocess the MNIST dataset\n",
        "(train_images, train_labels), (test_images, test_labels) = mnist.load_data()\n",
        "train_images = train_images.reshape((60000, -1)).astype('float32') / 255  # Flatten and normalize\n",
        "test_images = test_images.reshape((10000, -1)).astype('float32') / 255  # Flatten and normalize\n",
        "\n",
        "# Initialize variables\n",
        "means = np.zeros((10, 28*28))\n",
        "variances = np.zeros((10, 28*28))\n",
        "priors = np.zeros(10)\n",
        "\n",
        "# Estimate mean, variance, and prior for each class\n",
        "for digit in range(10):\n",
        "    images_of_digit = train_images[train_labels == digit]\n",
        "    means[digit, :] = np.mean(images_of_digit, axis=0)\n",
        "    variances[digit, :] = np.var(images_of_digit, axis=0) + 1e-6  # Add small constant for stability\n",
        "    priors[digit] = len(images_of_digit) / len(train_images)\n",
        "\n",
        "# Classify images using Bayes' rule and count correct classifications\n",
        "predictions = []\n",
        "for image in test_images:\n",
        "    posteriors = []\n",
        "    for digit in range(10):\n",
        "        likelihood = np.exp(-0.5 * np.sum(((image - means[digit]) ** 2) / variances[digit]))\n",
        "        posteriors.append(likelihood * priors[digit])\n",
        "    predictions.append(np.argmax(posteriors))\n",
        "\n",
        "# Compute and print accuracy\n",
        "predictions = np.array(predictions)\n",
        "accuracy = compute_accuracy(predictions, test_labels)\n",
        "print(f'Accuracy on the test set: {accuracy * 100:.2f}%')\n"
      ],
      "metadata": {
        "colab": {
          "base_uri": "https://localhost:8080/"
        },
        "id": "izmEyq5dz9_w",
        "outputId": "09739156-0624-440a-e650-0dfa1028d310"
      },
      "execution_count": 3,
      "outputs": [
        {
          "output_type": "stream",
          "name": "stdout",
          "text": [
            "Accuracy on the test set: 81.01%\n"
          ]
        }
      ]
    },
    {
      "cell_type": "code",
      "source": [
        "\n",
        "\n",
        "# Load the MNIST dataset\n",
        "(train_images, train_labels), (test_images, test_labels) = mnist.load_data()\n",
        "\n",
        "# Preprocess the data\n",
        "train_images = train_images.reshape((60000, -1)).astype('float32') / 255  # Flatten the images and normalize\n",
        "test_images = test_images.reshape((10000, -1)).astype('float32') / 255  # Flatten the images and normalize\n",
        "\n",
        "# Initialize variables for mean, covariance, and priors for each class\n",
        "means = np.zeros((10, 28*28))\n",
        "covariances = np.zeros((10, 28*28))\n",
        "priors = np.zeros(10)\n",
        "\n",
        "# Estimate mean, covariance, and prior for each class\n",
        "for digit in range(10):\n",
        "    images_of_digit = train_images[train_labels == digit]\n",
        "    means[digit, :] = np.mean(images_of_digit, axis=0)\n",
        "    covariances[digit, :] = np.var(images_of_digit, axis=0) + 1e-6  # Adding small constant for numerical stability\n",
        "    priors[digit] = len(images_of_digit) / len(train_images)\n",
        "\n",
        "# Bayesian classification of test images\n",
        "correct_classifications = 0\n",
        "for i in range(len(test_images)):\n",
        "    posteriors = np.zeros(10)\n",
        "    for digit in range(10):\n",
        "        likelihood = np.exp(-0.5 * np.sum(((test_images[i] - means[digit]) ** 2) / covariances[digit])) / np.sqrt(np.prod(2 * np.pi * covariances[digit]))\n",
        "        posteriors[digit] = likelihood * priors[digit]\n",
        "    predicted_digit = np.argmax(posteriors)\n",
        "    if predicted_digit == test_labels[i]:\n",
        "        correct_classifications += 1\n",
        "\n",
        "# Calculate and print accuracy\n",
        "accuracy = correct_classifications / len(test_images)\n",
        "print(f'The accuracy of the Bayesian classifier on the test set is: {accuracy * 100:.2f}%')\n"
      ],
      "metadata": {
        "colab": {
          "base_uri": "https://localhost:8080/"
        },
        "id": "leuMMSb5yi0n",
        "outputId": "316202fc-8069-4dfa-f708-61873ea15671"
      },
      "execution_count": 4,
      "outputs": [
        {
          "output_type": "stream",
          "name": "stderr",
          "text": [
            "<ipython-input-4-2a51c5cee641>:25: RuntimeWarning: invalid value encountered in double_scalars\n",
            "  likelihood = np.exp(-0.5 * np.sum(((test_images[i] - means[digit]) ** 2) / covariances[digit])) / np.sqrt(np.prod(2 * np.pi * covariances[digit]))\n",
            "<ipython-input-4-2a51c5cee641>:25: RuntimeWarning: divide by zero encountered in double_scalars\n",
            "  likelihood = np.exp(-0.5 * np.sum(((test_images[i] - means[digit]) ** 2) / covariances[digit])) / np.sqrt(np.prod(2 * np.pi * covariances[digit]))\n"
          ]
        },
        {
          "output_type": "stream",
          "name": "stdout",
          "text": [
            "The accuracy of the Bayesian classifier on the test set is: 0.53%\n"
          ]
        }
      ]
    }
  ]
}