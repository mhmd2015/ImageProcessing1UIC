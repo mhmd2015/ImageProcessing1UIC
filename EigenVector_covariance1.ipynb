{
  "nbformat": 4,
  "nbformat_minor": 0,
  "metadata": {
    "colab": {
      "provenance": [],
      "authorship_tag": "ABX9TyNvlnBYkIWgG9gIvhtL4voP",
      "include_colab_link": true
    },
    "kernelspec": {
      "name": "python3",
      "display_name": "Python 3"
    },
    "language_info": {
      "name": "python"
    }
  },
  "cells": [
    {
      "cell_type": "markdown",
      "metadata": {
        "id": "view-in-github",
        "colab_type": "text"
      },
      "source": [
        "<a href=\"https://colab.research.google.com/github/mhmd2015/ImageProcessing1UIC/blob/main/EigenVector_covariance1.ipynb\" target=\"_parent\"><img src=\"https://colab.research.google.com/assets/colab-badge.svg\" alt=\"Open In Colab\"/></a>"
      ]
    },
    {
      "cell_type": "code",
      "execution_count": 1,
      "metadata": {
        "id": "uaLtNWbkivE5"
      },
      "outputs": [],
      "source": [
        "import numpy as np"
      ]
    },
    {
      "cell_type": "code",
      "source": [
        "A = np.mat(\"1 2 3 4; 5 6 7 8; 9 10 11 12; 13 14 15 16\")\n",
        "print(\"A:\\n\",A)"
      ],
      "metadata": {
        "colab": {
          "base_uri": "https://localhost:8080/"
        },
        "id": "5DUQABzBi_wJ",
        "outputId": "905862d6-0e6f-461a-9844-1fd27d1e5860"
      },
      "execution_count": 6,
      "outputs": [
        {
          "output_type": "stream",
          "name": "stdout",
          "text": [
            "A:\n",
            " [[ 1  2  3  4]\n",
            " [ 5  6  7  8]\n",
            " [ 9 10 11 12]\n",
            " [13 14 15 16]]\n"
          ]
        }
      ]
    },
    {
      "cell_type": "markdown",
      "source": [
        "Run Eigen Vector"
      ],
      "metadata": {
        "id": "LcfN1Zoojnj_"
      }
    },
    {
      "cell_type": "code",
      "source": [
        "eigvals = np.linalg.eigvals(A)\n",
        "print(\"Eigen Value:\\n\",eigvals)"
      ],
      "metadata": {
        "colab": {
          "base_uri": "https://localhost:8080/"
        },
        "id": "BTCAv9OUjpqD",
        "outputId": "b3c2af73-a301-4801-dd71-977c5d17fa04"
      },
      "execution_count": 8,
      "outputs": [
        {
          "output_type": "stream",
          "name": "stdout",
          "text": [
            "Eigen Value:\n",
            " [ 3.62093727e+01 -2.20937271e+00 -2.62410379e-15 -9.51420961e-17]\n"
          ]
        }
      ]
    },
    {
      "cell_type": "code",
      "source": [
        "eigvals , eigvector = np.linalg.eig(A)\n",
        "print(\"Eigen Value:\\n\",eigvals)\n",
        "print(\"Eigen Vector:\\n\",eigvector)"
      ],
      "metadata": {
        "colab": {
          "base_uri": "https://localhost:8080/"
        },
        "id": "6FwnzaIRkp-G",
        "outputId": "62326730-22c5-493a-e63d-6ec7a5397c56"
      },
      "execution_count": 7,
      "outputs": [
        {
          "output_type": "stream",
          "name": "stdout",
          "text": [
            "Eigen Value:\n",
            " [ 3.62093727e+01 -2.20937271e+00 -2.62410379e-15 -9.51420961e-17]\n",
            "Eigen Vector:\n",
            " [[-0.15115432 -0.72704996 -0.47688035 -0.07702174]\n",
            " [-0.34923733 -0.28320876  0.83665151 -0.30149603]\n",
            " [-0.54732033  0.16063243 -0.24266197  0.83405728]\n",
            " [-0.74540333  0.60447363 -0.11710919 -0.45553951]]\n"
          ]
        }
      ]
    },
    {
      "cell_type": "markdown",
      "source": [
        "Let's start from vector to find the covariance matrix\n",
        "1- define vector (vec)\n",
        "2- the the mean (m)\n",
        "3- decrease the vec from m to generate to new matrix (aa)\n",
        "4- apply exp 2 on the aa"
      ],
      "metadata": {
        "id": "4YJ72cTwnGqB"
      }
    },
    {
      "cell_type": "code",
      "source": [
        "vec = np.array([1,2,3,4])\n",
        "print(\"Vector:\\n\",vec)"
      ],
      "metadata": {
        "colab": {
          "base_uri": "https://localhost:8080/"
        },
        "id": "ia9wWCornFnR",
        "outputId": "c2c5cfd8-f2d7-4a3c-cb1c-97dc208042fb"
      },
      "execution_count": 13,
      "outputs": [
        {
          "output_type": "stream",
          "name": "stdout",
          "text": [
            "Vector:\n",
            " [1 2 3 4]\n"
          ]
        }
      ]
    },
    {
      "cell_type": "code",
      "source": [
        "m = np.mean(vec)\n",
        "print(\"mean:\\n\",m)"
      ],
      "metadata": {
        "colab": {
          "base_uri": "https://localhost:8080/"
        },
        "id": "d0XC5BzAnRQx",
        "outputId": "d2fb3a83-205c-4a4f-fadd-969f9159fc96"
      },
      "execution_count": 14,
      "outputs": [
        {
          "output_type": "stream",
          "name": "stdout",
          "text": [
            "mean:\n",
            " 2.5\n"
          ]
        }
      ]
    },
    {
      "cell_type": "code",
      "source": [
        "# to find the covariance matrix\n",
        "aa = vec - m\n",
        "\n",
        "#cov = aa * aa\n",
        "cov = np.outer(aa,aa)\n",
        "\n",
        "\n",
        "print(\"covariance matrix:\\n\",cov)"
      ],
      "metadata": {
        "colab": {
          "base_uri": "https://localhost:8080/"
        },
        "id": "WyF_ANwyo2MH",
        "outputId": "b8d40718-457a-4461-ac9d-22ff516c836f"
      },
      "execution_count": 16,
      "outputs": [
        {
          "output_type": "stream",
          "name": "stdout",
          "text": [
            "covariance matrix:\n",
            " [[ 2.25  0.75 -0.75 -2.25]\n",
            " [ 0.75  0.25 -0.25 -0.75]\n",
            " [-0.75 -0.25  0.25  0.75]\n",
            " [-2.25 -0.75  0.75  2.25]]\n"
          ]
        }
      ]
    }
  ]
}