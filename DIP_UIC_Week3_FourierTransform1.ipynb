{
  "nbformat": 4,
  "nbformat_minor": 0,
  "metadata": {
    "colab": {
      "provenance": [],
      "authorship_tag": "ABX9TyPnXv9jzTt01PTlfCBIiCpL",
      "include_colab_link": true
    },
    "kernelspec": {
      "name": "python3",
      "display_name": "Python 3"
    },
    "language_info": {
      "name": "python"
    }
  },
  "cells": [
    {
      "cell_type": "markdown",
      "metadata": {
        "id": "view-in-github",
        "colab_type": "text"
      },
      "source": [
        "<a href=\"https://colab.research.google.com/github/mhmd2015/ImageProcessing1UIC/blob/main/DIP_UIC_Week3_FourierTransform1.ipynb\" target=\"_parent\"><img src=\"https://colab.research.google.com/assets/colab-badge.svg\" alt=\"Open In Colab\"/></a>"
      ]
    },
    {
      "cell_type": "code",
      "execution_count": 1,
      "metadata": {
        "id": "rlROSfK_wZdm"
      },
      "outputs": [],
      "source": [
        "import numpy as np\n",
        "import cv2\n",
        "import matplotlib.pyplot as plt\n"
      ]
    },
    {
      "cell_type": "markdown",
      "source": [
        "test"
      ],
      "metadata": {
        "id": "b_xaU6CwyMzN"
      }
    },
    {
      "cell_type": "code",
      "source": [
        "A = np.mat(\"1 2 3;4 5 6;7 8 9\")\n",
        "\n",
        "F = np.fft.fft2(A)\n",
        "\n",
        "print(F)\n"
      ],
      "metadata": {
        "colab": {
          "base_uri": "https://localhost:8080/"
        },
        "id": "uYmLhd3Ix0XU",
        "outputId": "5949f653-36b8-4075-fe79-2e934fdb5047"
      },
      "execution_count": 17,
      "outputs": [
        {
          "output_type": "stream",
          "name": "stdout",
          "text": [
            "[[ 45. +0.j          -4.5+2.59807621j  -4.5-2.59807621j]\n",
            " [-13.5+7.79422863j   0. +0.j           0. +0.j        ]\n",
            " [-13.5-7.79422863j   0. +0.j           0. +0.j        ]]\n"
          ]
        }
      ]
    },
    {
      "cell_type": "code",
      "source": [
        "A1 = np.fft.ifft2(F)\n",
        "print(A1)\n",
        "A2 = np.abs(A1)\n",
        "print(A2)\n"
      ],
      "metadata": {
        "colab": {
          "base_uri": "https://localhost:8080/"
        },
        "id": "IDU5SSEOyPFP",
        "outputId": "1bb94cfe-77df-4c7d-b2da-23abd21020f6"
      },
      "execution_count": 18,
      "outputs": [
        {
          "output_type": "stream",
          "name": "stdout",
          "text": [
            "[[1.+0.j 2.+0.j 3.+0.j]\n",
            " [4.+0.j 5.+0.j 6.+0.j]\n",
            " [7.+0.j 8.+0.j 9.+0.j]]\n",
            "[[1. 2. 3.]\n",
            " [4. 5. 6.]\n",
            " [7. 8. 9.]]\n"
          ]
        }
      ]
    },
    {
      "cell_type": "code",
      "source": [
        "V = np.array([[45,-4.5+2.59807621j,-4.5-2.59807621j],[-13.5+7.79422863j,0,0],[-13.5-7.79422863j,0,0]])\n",
        "\n",
        "print(V)\n",
        "\n",
        "A1 = np.fft.ifft2(V)\n",
        "\n",
        "A2 = np.abs(A1)\n",
        "print(\"\\n\",A2)\n"
      ],
      "metadata": {
        "colab": {
          "base_uri": "https://localhost:8080/"
        },
        "id": "EAMSOIya1PH6",
        "outputId": "6937f73c-fd89-4cb1-b5bf-87550357bde7"
      },
      "execution_count": 27,
      "outputs": [
        {
          "output_type": "stream",
          "name": "stdout",
          "text": [
            "[[ 45. +0.j          -4.5+2.59807621j  -4.5-2.59807621j]\n",
            " [-13.5+7.79422863j   0. +0.j           0. +0.j        ]\n",
            " [-13.5-7.79422863j   0. +0.j           0. +0.j        ]]\n",
            "\n",
            " [[1. 2. 3.]\n",
            " [4. 5. 6.]\n",
            " [7. 8. 9.]]\n"
          ]
        }
      ]
    },
    {
      "cell_type": "markdown",
      "source": [
        "---\n",
        "LETs use real image\n",
        "---\n",
        "---\n",
        "\n",
        "\n",
        "Load the image:\n",
        "\n",
        "You'll need an image to apply the Fourier transform to. You can load an image using OpenCV:"
      ],
      "metadata": {
        "id": "7Gegu4ohw9RV"
      }
    },
    {
      "cell_type": "code",
      "source": [
        "# Load the image in grayscale\n",
        "#image = cv2.imread('noise.jpeg', cv2.IMREAD_GRAYSCALE)\n",
        "image = cv2.imread('avatar1.jpg', cv2.IMREAD_GRAYSCALE)\n"
      ],
      "metadata": {
        "id": "ezDe-hOiwkCb"
      },
      "execution_count": 34,
      "outputs": []
    },
    {
      "cell_type": "markdown",
      "source": [
        "Perform the 2D Fourier Transform:\n",
        "\n",
        "Use NumPy's fft.fft2 function to compute the 2D Fourier transform of the image:"
      ],
      "metadata": {
        "id": "ixymIDv0xFNI"
      }
    },
    {
      "cell_type": "code",
      "source": [
        "# Compute the 2D Fourier transform\n",
        "f_transform = np.fft.fft2(image)"
      ],
      "metadata": {
        "id": "qyHH7RtEwrMg"
      },
      "execution_count": 35,
      "outputs": []
    },
    {
      "cell_type": "code",
      "source": [
        "print(image)"
      ],
      "metadata": {
        "colab": {
          "base_uri": "https://localhost:8080/"
        },
        "id": "EDkpb6dG7dUQ",
        "outputId": "51adef0a-38a1-40d1-fda8-8ffef2ea1d3f"
      },
      "execution_count": 37,
      "outputs": [
        {
          "output_type": "stream",
          "name": "stdout",
          "text": [
            "[[186 187 187 ... 185 186 186]\n",
            " [187 188 188 ... 185 185 188]\n",
            " [187 188 189 ... 185 185 186]\n",
            " ...\n",
            " [ 42  38  38 ... 155 180 155]\n",
            " [207 197 190 ... 182 187 196]\n",
            " [234 225 219 ... 225 222 224]]\n"
          ]
        }
      ]
    },
    {
      "cell_type": "code",
      "source": [
        "print(f_transform)"
      ],
      "metadata": {
        "colab": {
          "base_uri": "https://localhost:8080/"
        },
        "id": "BOpI7vy_7Trq",
        "outputId": "5c6734be-4d3d-4947-f475-705d35e444c3"
      },
      "execution_count": 36,
      "outputs": [
        {
          "output_type": "stream",
          "name": "stdout",
          "text": [
            "[[1318781.        -4.15472101e-11j  102076.60852239+1.25217678e+05j\n",
            "    24907.12627419+3.07183480e+02j ...  -18201.08683304+7.01613105e+03j\n",
            "    24907.12627419-3.07183480e+02j  102076.60852239-1.25217678e+05j]\n",
            " [ -97343.76160251-1.01694810e+05j  -30624.40715566+5.00359202e+04j\n",
            "   -28561.74619881+2.61611437e+04j ...   -3801.99186912-6.25006299e+02j\n",
            "    19481.34918808-3.91418865e+04j   54355.77774827+2.88961528e+04j]\n",
            " [  41875.45758094-7.56813184e+04j  -54346.88657276-2.55225394e+04j\n",
            "   -58535.10789556+1.17261476e+04j ...   22404.23690931-1.49972069e+04j\n",
            "    12212.35356683+1.95076059e+03j    9126.18156388+3.39961985e+04j]\n",
            " ...\n",
            " [  45158.0148275 +2.59399806e+04j  -13110.67539181-8.89303965e+03j\n",
            "    23577.18978135-2.15036044e+04j ...  -17913.38462694+2.50332314e+04j\n",
            "    -9446.95775655+2.73829444e+03j  -25682.34515505+2.87630462e+04j]\n",
            " [  41875.45758094+7.56813184e+04j    9126.18156388-3.39961985e+04j\n",
            "    12212.35356683-1.95076059e+03j ...    1488.47746317-3.09287758e+04j\n",
            "   -58535.10789556-1.17261476e+04j  -54346.88657276+2.55225394e+04j]\n",
            " [ -97343.76160251+1.01694810e+05j   54355.77774827-2.88961528e+04j\n",
            "    19481.34918808+3.91418865e+04j ...   -1684.5768804 -2.55943318e+04j\n",
            "   -28561.74619881-2.61611437e+04j  -30624.40715566-5.00359202e+04j]]\n"
          ]
        }
      ]
    },
    {
      "cell_type": "markdown",
      "source": [
        "Shift the zero frequency component (optional):\n",
        "\n",
        "In the Fourier transform result, the zero frequency component (DC component) is located at the top-left corner. You can shift it to the center using np.fft.fftshift for visualization purposes:"
      ],
      "metadata": {
        "id": "ZzdbLoEbxKIF"
      }
    },
    {
      "cell_type": "code",
      "source": [
        "f_transform_shifted = np.fft.fftshift(f_transform)"
      ],
      "metadata": {
        "id": "PrlCtOfMwxyV"
      },
      "execution_count": 38,
      "outputs": []
    },
    {
      "cell_type": "markdown",
      "source": [
        "Calculate the magnitude spectrum:\n",
        "\n",
        "The magnitude spectrum represents the amplitude of each frequency component. You can calculate it as follows:"
      ],
      "metadata": {
        "id": "NqqUjGhHxOH_"
      }
    },
    {
      "cell_type": "code",
      "source": [
        "magnitude_spectrum = np.abs(f_transform_shifted)"
      ],
      "metadata": {
        "id": "Y2mNLX1Jw0qM"
      },
      "execution_count": 39,
      "outputs": []
    },
    {
      "cell_type": "markdown",
      "source": [
        "Display the magnitude spectrum:\n",
        "\n",
        "You can visualize the magnitude spectrum using matplotlib:"
      ],
      "metadata": {
        "id": "O5g39Iw-xWZ1"
      }
    },
    {
      "cell_type": "code",
      "source": [
        "plt.imshow(np.log1p(magnitude_spectrum), cmap='gray')\n",
        "#plt.imshow(image, cmap='gray')\n",
        "plt.colorbar()\n",
        "plt.title('Magnitude Spectrum')\n",
        "plt.show()"
      ],
      "metadata": {
        "colab": {
          "base_uri": "https://localhost:8080/",
          "height": 452
        },
        "id": "sokgAZ0iw3ch",
        "outputId": "a1884431-390b-4cdb-8e90-c90f60ad7df3"
      },
      "execution_count": 42,
      "outputs": [
        {
          "output_type": "display_data",
          "data": {
            "text/plain": [
              "<Figure size 640x480 with 2 Axes>"
            ],
            "image/png": "[encoded data removed]"
          },
          "metadata": {}
        }
      ]
    },
    {
      "cell_type": "markdown",
      "source": [
        "Perform Inverse Fourier Transform (if needed):\n",
        "\n",
        "If you want to apply any processing in the frequency domain and then return to the spatial domain, you can use np.fft.ifft2 for the inverse Fourier transform:"
      ],
      "metadata": {
        "id": "RxuaPZbTxXKJ"
      }
    },
    {
      "cell_type": "code",
      "source": [
        "# Perform the inverse Fourier transform\n",
        "image_reconstructed = np.fft.ifft2(f_transform)\n",
        "image_reconstructed = np.abs(image_reconstructed)  # Take the absolute values to get the image\n",
        "\n",
        "plt.imshow(image_reconstructed, cmap='gray')\n",
        "\n",
        "plt.colorbar()\n",
        "plt.title('Magnitude Spectrum')\n",
        "plt.show()"
      ],
      "metadata": {
        "colab": {
          "base_uri": "https://localhost:8080/",
          "height": 452
        },
        "id": "jJdJfgxlw7SS",
        "outputId": "923246d0-7349-49c8-f954-0dc1b591153b"
      },
      "execution_count": 43,
      "outputs": [
        {
          "output_type": "display_data",
          "data": {
            "text/plain": [
              "<Figure size 640x480 with 2 Axes>"
            ],
            "image/png": "[encoded data removed]"
          },
          "metadata": {}
        }
      ]
    },
    {
      "cell_type": "markdown",
      "source": [
        "---\n",
        "---\n",
        "\n"
      ],
      "metadata": {
        "id": "lOeHKvjWxwWe"
      }
    },
    {
      "cell_type": "code",
      "source": [
        "A = np.mat(\"5 2 5 6 ;7 7 6 7;1 1 2 9; 1 1 1 8\")\n",
        "print(A)\n",
        "\n",
        "F = np.fft.fft2(A)\n",
        "\n",
        "print(F)"
      ],
      "metadata": {
        "colab": {
          "base_uri": "https://localhost:8080/"
        },
        "id": "iYSeRiwT4_FK",
        "outputId": "ada4c436-a0a8-468d-cf71-fb3d46bc4b28"
      },
      "execution_count": 29,
      "outputs": [
        {
          "output_type": "stream",
          "name": "stdout",
          "text": [
            "[[5 2 5 6]\n",
            " [7 7 6 7]\n",
            " [1 1 2 9]\n",
            " [1 1 1 8]]\n",
            "[[ 69. +0.j   0.+19.j -13. +0.j   0.-19.j]\n",
            " [  5.-16.j  -6. -5.j   9. -6.j   8. +3.j]\n",
            " [ -7. +0.j  -2. +5.j   3. +0.j  -2. -5.j]\n",
            " [  5.+16.j   8. -3.j   9. +6.j  -6. +5.j]]\n"
          ]
        }
      ]
    },
    {
      "cell_type": "code",
      "source": [
        "print(F)"
      ],
      "metadata": {
        "colab": {
          "base_uri": "https://localhost:8080/"
        },
        "id": "8p45lm7r5yO6",
        "outputId": "ba893ef9-7f51-4bd7-ea0a-3fc2f1f0d4db"
      },
      "execution_count": 30,
      "outputs": [
        {
          "output_type": "stream",
          "name": "stdout",
          "text": [
            "[[ 69. +0.j   0.+19.j -13. +0.j   0.-19.j]\n",
            " [  5.-16.j  -6. -5.j   9. -6.j   8. +3.j]\n",
            " [ -7. +0.j  -2. +5.j   3. +0.j  -2. -5.j]\n",
            " [  5.+16.j   8. -3.j   9. +6.j  -6. +5.j]]\n"
          ]
        }
      ]
    },
    {
      "cell_type": "code",
      "source": [
        "A1 = np.fft.ifft2(F)\n",
        "\n",
        "A2 = np.abs(A1)\n",
        "print(A2)"
      ],
      "metadata": {
        "colab": {
          "base_uri": "https://localhost:8080/"
        },
        "id": "7za32LY552Zo",
        "outputId": "2a900d97-4207-47db-abdf-3cda33a762aa"
      },
      "execution_count": 31,
      "outputs": [
        {
          "output_type": "stream",
          "name": "stdout",
          "text": [
            "[[5. 2. 5. 6.]\n",
            " [7. 7. 6. 7.]\n",
            " [1. 1. 2. 9.]\n",
            " [1. 1. 1. 8.]]\n"
          ]
        }
      ]
    }
  ]
}