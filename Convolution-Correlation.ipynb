{
  "nbformat": 4,
  "nbformat_minor": 0,
  "metadata": {
    "colab": {
      "provenance": [],
      "authorship_tag": "ABX9TyN9Ks1kST/lTkXsJhyakAtl",
      "include_colab_link": true
    },
    "kernelspec": {
      "name": "python3",
      "display_name": "Python 3"
    },
    "language_info": {
      "name": "python"
    }
  },
  "cells": [
    {
      "cell_type": "markdown",
      "metadata": {
        "id": "view-in-github",
        "colab_type": "text"
      },
      "source": [
        "<a href=\"https://colab.research.google.com/github/mhmd2015/ImageProcessing1UIC/blob/main/Convolution-Correlation.ipynb\" target=\"_parent\"><img src=\"https://colab.research.google.com/assets/colab-badge.svg\" alt=\"Open In Colab\"/></a>"
      ]
    },
    {
      "cell_type": "code",
      "execution_count": 28,
      "metadata": {
        "id": "6BxFJ7J3ng1Z"
      },
      "outputs": [],
      "source": [
        "import numpy as np\n",
        "\n",
        "x = np.array([0,0,0.1,0.2,2,2.1,2,2.1,2, 2])\n",
        "h = np.array([0.5, 0.5, 0.25])\n",
        "\n"
      ]
    },
    {
      "cell_type": "code",
      "source": [
        "# define the functions\n",
        "def convolve_1d(signal, kernel):\n",
        "    # Flip the kernel for convolution\n",
        "    kernel = np.flip(kernel)\n",
        "\n",
        "    # Lengths of input signal and kernel\n",
        "    signal_len = len(signal)\n",
        "    kernel_len = len(kernel)\n",
        "\n",
        "    # Create an output array of the appropriate size\n",
        "    output_len = signal_len + kernel_len - 1\n",
        "    output = np.zeros(output_len)\n",
        "\n",
        "    # Convolve signal with kernel\n",
        "    for i in range(output_len):\n",
        "        for j in range(kernel_len):\n",
        "            if i - j >= 0 and i - j < signal_len:\n",
        "                output[i] += signal[i - j] * kernel[j]\n",
        "\n",
        "    return output\n",
        "\n",
        "def convolve_1d_explain(signal, kernel):\n",
        "    # Flip the kernel for convolution\n",
        "    kernel = np.flip(kernel)\n",
        "\n",
        "    # Lengths of input signal and kernel\n",
        "    signal_len = len(signal)\n",
        "    kernel_len = len(kernel)\n",
        "\n",
        "    # Create an output array of the appropriate size\n",
        "    output_len = signal_len + kernel_len - 1\n",
        "    output = np.zeros(output_len)\n",
        "\n",
        "    # Convolve signal with kernel\n",
        "    for i in range(output_len):\n",
        "        eq=\"\";\n",
        "        rs=\"\";\n",
        "        for j in range(kernel_len):\n",
        "            if i - j >= 0 and i - j < signal_len:\n",
        "              #print(\"i=\"+str(i)+\",j=\"+str(j)+\":output[i]=\"+str(output[i])+\"    x(i-j) => x(\"+str((i-j))+\")=\"+str(signal[i-j])+\" *    h(j)=> h(\"+str(j)+\")=\"+str(kernel[j]))\n",
        "              #print(\"i=\"+str(i)+\",j=\"+str(j)+\":output[i]=\"+str(output[i])+\"    x(i-j) * h(j) => x(\"+str((i-j))+\") * h(\"+str(j)+\") => \"+str(signal[i-j])+\" * \"+str(kernel[j]))\n",
        "              if(eq != \"\"):\n",
        "                eq+=\" + \"\n",
        "              eq+=\"x(\"+str((i-j))+\") * h(\"+str(j)+\")\"\n",
        "\n",
        "              if(rs != \"\"):\n",
        "                rs+=\" + \"\n",
        "              rs+=str(signal[i-j])+\" * \"+str(kernel[j])\n",
        "\n",
        "\n",
        "              output[i] += signal[i - j] * kernel[j]\n",
        "        #print(\"i=\"+str(i)+\":output[i]=> y(\"+str(i)+\")=\"+str(output[i]))\n",
        "        print(\"y(\"+str(i)+\") = \"+eq+\" => \"+rs+\" = \"+str(output[i]))\n",
        "    return output\n",
        "\n",
        "\n",
        "def convolution_2d(image, filt):\n",
        "  m, n = filt.shape\n",
        "  if(m == n):\n",
        "    y, x = image.shape\n",
        "    y = y - m +1\n",
        "    x = x - m +1\n",
        "    new_image = np.zeros((x,y))\n",
        "    for i in range(y):\n",
        "      for j in range(x):\n",
        "        new_image[i][j]=np.sum(image[i:i+m, j:j+m] * filt)\n",
        "  return new_image\n",
        "\n",
        "\n",
        "def correlate_1d(signal, kernel):\n",
        "    # Lengths of input signal and kernel\n",
        "    signal_len = len(signal)\n",
        "    kernel_len = len(kernel)\n",
        "\n",
        "    # Create an output array of the appropriate size\n",
        "    output_len = signal_len + kernel_len - 1\n",
        "    output = np.zeros(output_len)\n",
        "\n",
        "    # Correlate signal with kernel\n",
        "    for i in range(output_len):\n",
        "        for j in range(kernel_len):\n",
        "            if i - j >= 0 and i - j < signal_len:\n",
        "                output[i] += signal[i - j] * kernel[j]\n",
        "\n",
        "    return output\n",
        "\n",
        "def correlate_1d_explain(signal, kernel):\n",
        "    # Lengths of input signal and kernel\n",
        "    signal_len = len(signal)\n",
        "    kernel_len = len(kernel)\n",
        "\n",
        "    # Create an output array of the appropriate size\n",
        "    output_len = signal_len + kernel_len - 1\n",
        "    output = np.zeros(output_len)\n",
        "\n",
        "    # Correlate signal with kernel\n",
        "    for i in range(output_len):\n",
        "        eq=\"\";\n",
        "        rs=\"\";\n",
        "        for j in range(kernel_len):\n",
        "            if i - j >= 0 and i - j < signal_len:\n",
        "\n",
        "                if(eq != \"\"):\n",
        "                  eq+=\" + \"\n",
        "                eq+=\"x(\"+str((i-j))+\") * h(\"+str(j)+\")\"\n",
        "\n",
        "                if(rs != \"\"):\n",
        "                  rs+=\" + \"\n",
        "                rs+=str(signal[i-j])+\" * \"+str(kernel[j])\n",
        "\n",
        "                output[i] += signal[i - j] * kernel[j]\n",
        "        print(\"y(\"+str(i)+\") = \"+eq+\" => \"+rs+\" = \"+str(output[i]))\n",
        "\n",
        "    return output\n",
        "\n"
      ],
      "metadata": {
        "id": "VKIuWxqXoYBY"
      },
      "execution_count": 29,
      "outputs": []
    },
    {
      "cell_type": "code",
      "source": [
        "y = np.convolve(x, h)\n",
        "print(y)"
      ],
      "metadata": {
        "colab": {
          "base_uri": "https://localhost:8080/"
        },
        "id": "Jr-dUDkyoIMM",
        "outputId": "86d82484-3a36-4cc7-bebd-1c5a9fb08389"
      },
      "execution_count": 5,
      "outputs": [
        {
          "output_type": "stream",
          "name": "stdout",
          "text": [
            "[0.    0.    0.025 0.1   0.625 1.575 2.05  2.05  2.05  2.025 1.5   0.5  ]\n"
          ]
        }
      ]
    },
    {
      "cell_type": "code",
      "source": [
        "result = convolve_1d(x,h)\n",
        "print(result)"
      ],
      "metadata": {
        "colab": {
          "base_uri": "https://localhost:8080/"
        },
        "id": "asM6tgQRoXTF",
        "outputId": "4cce30a0-1ed5-4f4a-e037-45f554881b96"
      },
      "execution_count": 11,
      "outputs": [
        {
          "output_type": "stream",
          "name": "stdout",
          "text": [
            "[0.    0.    0.025 0.1   0.625 1.575 2.05  2.05  2.05  2.025 1.5   0.5  ]\n"
          ]
        }
      ]
    },
    {
      "cell_type": "code",
      "source": [
        "result = convolve_1d_explain(x,h)\n",
        "print(result)"
      ],
      "metadata": {
        "colab": {
          "base_uri": "https://localhost:8080/"
        },
        "id": "9-CjdUqWxXoM",
        "outputId": "ad5b1a5a-62cc-472d-ccda-dd39e4b2e189"
      },
      "execution_count": 30,
      "outputs": [
        {
          "output_type": "stream",
          "name": "stdout",
          "text": [
            "y(0) = x(0) * h(0) => 0.0 * 0.25 = 0.0\n",
            "y(1) = x(1) * h(0) + x(0) * h(1) => 0.0 * 0.25 + 0.0 * 0.5 = 0.0\n",
            "y(2) = x(2) * h(0) + x(1) * h(1) + x(0) * h(2) => 0.1 * 0.25 + 0.0 * 0.5 + 0.0 * 0.5 = 0.025\n",
            "y(3) = x(3) * h(0) + x(2) * h(1) + x(1) * h(2) => 0.2 * 0.25 + 0.1 * 0.5 + 0.0 * 0.5 = 0.1\n",
            "y(4) = x(4) * h(0) + x(3) * h(1) + x(2) * h(2) => 2.0 * 0.25 + 0.2 * 0.5 + 0.1 * 0.5 = 0.65\n",
            "y(5) = x(5) * h(0) + x(4) * h(1) + x(3) * h(2) => 2.1 * 0.25 + 2.0 * 0.5 + 0.2 * 0.5 = 1.625\n",
            "y(6) = x(6) * h(0) + x(5) * h(1) + x(4) * h(2) => 2.0 * 0.25 + 2.1 * 0.5 + 2.0 * 0.5 = 2.55\n",
            "y(7) = x(7) * h(0) + x(6) * h(1) + x(5) * h(2) => 2.1 * 0.25 + 2.0 * 0.5 + 2.1 * 0.5 = 2.575\n",
            "y(8) = x(8) * h(0) + x(7) * h(1) + x(6) * h(2) => 2.0 * 0.25 + 2.1 * 0.5 + 2.0 * 0.5 = 2.55\n",
            "y(9) = x(9) * h(0) + x(8) * h(1) + x(7) * h(2) => 2.0 * 0.25 + 2.0 * 0.5 + 2.1 * 0.5 = 2.55\n",
            "y(10) = x(9) * h(1) + x(8) * h(2) => 2.0 * 0.5 + 2.0 * 0.5 = 2.0\n",
            "y(11) = x(9) * h(2) => 2.0 * 0.5 = 1.0\n",
            "[0.    0.    0.025 0.1   0.65  1.625 2.55  2.575 2.55  2.55  2.    1.   ]\n"
          ]
        }
      ]
    },
    {
      "cell_type": "code",
      "source": [
        "result = correlate_1d_explain(x,h)\n",
        "print(result)"
      ],
      "metadata": {
        "colab": {
          "base_uri": "https://localhost:8080/"
        },
        "id": "FHpfWqsb8UR3",
        "outputId": "dd92d1e4-7957-4b47-c806-6373af9f036c"
      },
      "execution_count": 31,
      "outputs": [
        {
          "output_type": "stream",
          "name": "stdout",
          "text": [
            "y(0) = x(0) * h(0) => 0.0 * 0.5 = 0.0\n",
            "y(1) = x(1) * h(0) + x(0) * h(1) => 0.0 * 0.5 + 0.0 * 0.5 = 0.0\n",
            "y(2) = x(2) * h(0) + x(1) * h(1) + x(0) * h(2) => 0.1 * 0.5 + 0.0 * 0.5 + 0.0 * 0.25 = 0.05\n",
            "y(3) = x(3) * h(0) + x(2) * h(1) + x(1) * h(2) => 0.2 * 0.5 + 0.1 * 0.5 + 0.0 * 0.25 = 0.15000000000000002\n",
            "y(4) = x(4) * h(0) + x(3) * h(1) + x(2) * h(2) => 2.0 * 0.5 + 0.2 * 0.5 + 0.1 * 0.25 = 1.125\n",
            "y(5) = x(5) * h(0) + x(4) * h(1) + x(3) * h(2) => 2.1 * 0.5 + 2.0 * 0.5 + 0.2 * 0.25 = 2.0999999999999996\n",
            "y(6) = x(6) * h(0) + x(5) * h(1) + x(4) * h(2) => 2.0 * 0.5 + 2.1 * 0.5 + 2.0 * 0.25 = 2.55\n",
            "y(7) = x(7) * h(0) + x(6) * h(1) + x(5) * h(2) => 2.1 * 0.5 + 2.0 * 0.5 + 2.1 * 0.25 = 2.5749999999999997\n",
            "y(8) = x(8) * h(0) + x(7) * h(1) + x(6) * h(2) => 2.0 * 0.5 + 2.1 * 0.5 + 2.0 * 0.25 = 2.55\n",
            "y(9) = x(9) * h(0) + x(8) * h(1) + x(7) * h(2) => 2.0 * 0.5 + 2.0 * 0.5 + 2.1 * 0.25 = 2.525\n",
            "y(10) = x(9) * h(1) + x(8) * h(2) => 2.0 * 0.5 + 2.0 * 0.25 = 1.5\n",
            "y(11) = x(9) * h(2) => 2.0 * 0.25 = 0.5\n",
            "[0.    0.    0.05  0.15  1.125 2.1   2.55  2.575 2.55  2.525 1.5   0.5  ]\n"
          ]
        }
      ]
    },
    {
      "cell_type": "code",
      "source": [
        "def histogram(image):\n",
        "\n",
        "\n",
        "  # Step 1: Compute histogram\n",
        "  hist, bins = np.histogram(image.flatten(), bins=256, range=[0,256])\n",
        "\n",
        "  # Step 2: Compute CDF\n",
        "  cdf = hist.cumsum()\n",
        "  cdf_normalized = cdf * hist.max() / cdf.max()\n",
        "\n",
        "  # Normalize the CDF to fit in the 0-255 range\n",
        "  cdf_m = np.ma.masked_equal(cdf,0)\n",
        "  cdf_m = (cdf_m - cdf_m.min()) * 255 / (cdf_m.max()-cdf_m.min())\n",
        "  cdf = np.ma.filled(cdf_m,0).astype('uint8')\n",
        "\n",
        "  # Step 3: Use the CDF to equalize the image\n",
        "  equalized_image = cdf[image]\n",
        "\n",
        "  return equalized_image"
      ],
      "metadata": {
        "id": "W3U8BZ_TEnBw"
      },
      "execution_count": 35,
      "outputs": []
    },
    {
      "cell_type": "code",
      "source": [
        "image = np.array([\n",
        "    [5,  6,  5,  5,  5],\n",
        "    [4, 99,  5,  5,  5],\n",
        "    [4,  5,  5,  5,  5],\n",
        "    [5,  5,  6,  6,  6],\n",
        "    [5,  4,  5,  4, 44]\n",
        "  ])\n",
        "\n",
        "result = histogram(image)\n",
        "print(result)"
      ],
      "metadata": {
        "colab": {
          "base_uri": "https://localhost:8080/"
        },
        "id": "qeGhQpGtEvTh",
        "outputId": "46fe74b1-7129-4c7d-aae4-eddc8f6e155c"
      },
      "execution_count": 36,
      "outputs": [
        {
          "output_type": "stream",
          "name": "stdout",
          "text": [
            "[[182 230 182 182 182]\n",
            " [  0 255 182 182 182]\n",
            " [  0 182 182 182 182]\n",
            " [182 182 230 230 230]\n",
            " [182   0 182   0 242]]\n"
          ]
        }
      ]
    }
  ]
}