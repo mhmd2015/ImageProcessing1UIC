{
  "nbformat": 4,
  "nbformat_minor": 0,
  "metadata": {
    "colab": {
      "provenance": [],
      "authorship_tag": "ABX9TyPX2mbeJBSVMO4GQqQnhW1p",
      "include_colab_link": true
    },
    "kernelspec": {
      "name": "python3",
      "display_name": "Python 3"
    },
    "language_info": {
      "name": "python"
    }
  },
  "cells": [
    {
      "cell_type": "markdown",
      "metadata": {
        "id": "view-in-github",
        "colab_type": "text"
      },
      "source": [
        "<a href=\"https://colab.research.google.com/github/mhmd2015/ImageProcessing1UIC/blob/main/DIP_UIC_Week3_DiscreteCosineTransformDCT1.ipynb\" target=\"_parent\"><img src=\"https://colab.research.google.com/assets/colab-badge.svg\" alt=\"Open In Colab\"/></a>"
      ]
    },
    {
      "cell_type": "code",
      "source": [
        "import numpy as np\n",
        "import cv2\n",
        "\n"
      ],
      "metadata": {
        "id": "WIVsMgEQWd1p"
      },
      "execution_count": 6,
      "outputs": []
    },
    {
      "cell_type": "code",
      "source": [
        "# Define the toy image\n",
        "x = np.array([[1, 1],\n",
        "              [1, 1]], dtype=np.float32)\n",
        "\n",
        "# Compute the DCT\n",
        "dct_result = cv2.dct(x)\n",
        "\n",
        "print(dct_result)"
      ],
      "metadata": {
        "colab": {
          "base_uri": "https://localhost:8080/"
        },
        "id": "Vl_1AWYTWf_1",
        "outputId": "e334fd1d-3a82-40b0-84d1-f93dbd088f78"
      },
      "execution_count": 10,
      "outputs": [
        {
          "output_type": "stream",
          "name": "stdout",
          "text": [
            "[[1.9999999e+00 0.0000000e+00]\n",
            " [2.5376103e-08 0.0000000e+00]]\n"
          ]
        }
      ]
    },
    {
      "cell_type": "code",
      "execution_count": 13,
      "metadata": {
        "id": "0lPxMtBVS3M-"
      },
      "outputs": [],
      "source": [
        "\n",
        "\n",
        "def compute_dct(img):\n",
        "    M, N = img.shape\n",
        "    X = np.zeros((M, N))\n",
        "\n",
        "    # Scale factors\n",
        "    C = lambda x: 1/np.sqrt(2) if x == 0 else 1\n",
        "\n",
        "    for u in range(M):\n",
        "        for v in range(N):\n",
        "            sum_val = 0\n",
        "            for m in range(M):\n",
        "                for n in range(N):\n",
        "                    sum_val += img[m, n] * np.cos((np.pi * (2*m + 1) * u) / (2 * M)) * np.cos((np.pi * (2*n + 1) * v) / (2 * N))\n",
        "            X[u, v] = C(u) * C(v) * sum_val\n",
        "            #X[u, v] =  sum_val\n",
        "    return X\n",
        "\n"
      ]
    },
    {
      "cell_type": "code",
      "source": [
        "def dct_2d(img):\n",
        "    M, N = img.shape\n",
        "    dct_result = np.zeros((M, N))\n",
        "\n",
        "    # Scale factors\n",
        "    C = lambda s: np.sqrt(1.0 / M) if s == 0 else np.sqrt(2.0 / M)\n",
        "\n",
        "    for u in range(M):\n",
        "        for v in range(N):\n",
        "            sum_val = 0\n",
        "            for m in range(M):\n",
        "                for n in range(N):\n",
        "                    sum_val += img[m, n] * np.cos((np.pi * (2*m + 1) * u) / (2 * M)) * np.cos((np.pi * (2*n + 1) * v) / (2 * N))\n",
        "            dct_result[u, v] = C(u) * C(v) * sum_val\n",
        "\n",
        "    return dct_result"
      ],
      "metadata": {
        "id": "W9_2DSLgXofg"
      },
      "execution_count": 23,
      "outputs": []
    },
    {
      "cell_type": "code",
      "source": [
        "def dct(image):\n",
        "\n",
        "  dct_matrix = np.zeros((image.shape[0], image.shape[1]))\n",
        "\n",
        "  for i in range(image.shape[0]):\n",
        "    for j in range(image.shape[1]):\n",
        "      dct_matrix[i, j] = (1 / np.sqrt(2)) * np.sum(\n",
        "          image[i, :] * np.cos((2 * j + 1) * i * np.pi / 2))\n",
        "\n",
        "  return dct_matrix"
      ],
      "metadata": {
        "id": "pi6BQo6fY7VL"
      },
      "execution_count": 25,
      "outputs": []
    },
    {
      "cell_type": "code",
      "source": [
        "# Define the toy image\n",
        "#img = np.array([[1, 1],[1, 1]])\n",
        "img = np.mat(\"1 1 ; 1 1\")\n",
        "\n",
        "# Compute the 2x2 DCT\n",
        "dct_result = compute_dct(img)\n",
        "print(dct_result)\n",
        "\n",
        "dct_result = dct_2d(img)\n",
        "print(dct_result)\n",
        "\n",
        "dct_result = dct(img)\n",
        "print(dct_result)"
      ],
      "metadata": {
        "colab": {
          "base_uri": "https://localhost:8080/"
        },
        "id": "V42AXd6yTAiJ",
        "outputId": "7cc7d339-b03b-4b03-d189-deaf2a8b2510"
      },
      "execution_count": 26,
      "outputs": [
        {
          "output_type": "stream",
          "name": "stdout",
          "text": [
            "[[2.00000000e+00 1.57009246e-16]\n",
            " [1.57009246e-16 0.00000000e+00]]\n",
            "[[2.00000000e+00 1.57009246e-16]\n",
            " [1.57009246e-16 0.00000000e+00]]\n",
            "[[ 1.41421356e+00  1.41421356e+00]\n",
            " [ 8.65956056e-17 -2.59786817e-16]]\n"
          ]
        }
      ]
    },
    {
      "cell_type": "code",
      "source": [],
      "metadata": {
        "id": "V4U4qtgqbpQY"
      },
      "execution_count": null,
      "outputs": []
    },
    {
      "cell_type": "code",
      "source": [
        "from scipy.fftpack import fft, dct\n",
        "import numpy as np\n",
        "fft(np.array([1., 1., 1., 1.])).real"
      ],
      "metadata": {
        "colab": {
          "base_uri": "https://localhost:8080/"
        },
        "id": "e7cCVqljbzJ2",
        "outputId": "aafb96d8-7b5b-431d-f289-88a85052379e"
      },
      "execution_count": 28,
      "outputs": [
        {
          "output_type": "execute_result",
          "data": {
            "text/plain": [
              "array([4., 0., 0., 0.])"
            ]
          },
          "metadata": {},
          "execution_count": 28
        }
      ]
    },
    {
      "cell_type": "code",
      "source": [
        "dct(np.array([1., 1., 1., 1.]), 1)"
      ],
      "metadata": {
        "colab": {
          "base_uri": "https://localhost:8080/"
        },
        "id": "Io3Turo1cBEE",
        "outputId": "fdc4dcc2-c719-4b2b-8fed-17607342fcc4"
      },
      "execution_count": 29,
      "outputs": [
        {
          "output_type": "execute_result",
          "data": {
            "text/plain": [
              "array([6., 0., 0., 0.])"
            ]
          },
          "metadata": {},
          "execution_count": 29
        }
      ]
    },
    {
      "cell_type": "code",
      "source": [
        "dct(np.array([1., 1., 1., 1.]), 2)"
      ],
      "metadata": {
        "colab": {
          "base_uri": "https://localhost:8080/"
        },
        "id": "7Dub7e5ccHkv",
        "outputId": "f5f0d764-6fb1-4338-fbbf-c15d8b79c6d1"
      },
      "execution_count": 30,
      "outputs": [
        {
          "output_type": "execute_result",
          "data": {
            "text/plain": [
              "array([8., 0., 0., 0.])"
            ]
          },
          "metadata": {},
          "execution_count": 30
        }
      ]
    },
    {
      "cell_type": "code",
      "source": [
        "dct(np.array([1., 1., 1., 1., 1., 1., 1., 1., 1.]), 2)"
      ],
      "metadata": {
        "colab": {
          "base_uri": "https://localhost:8080/"
        },
        "id": "J9_LPj-Nc3_r",
        "outputId": "a86075b1-4b17-47b1-c910-ce5a22976e4e"
      },
      "execution_count": 31,
      "outputs": [
        {
          "output_type": "execute_result",
          "data": {
            "text/plain": [
              "array([18.,  0.,  0.,  0.,  0.,  0.,  0.,  0.,  0.])"
            ]
          },
          "metadata": {},
          "execution_count": 31
        }
      ]
    },
    {
      "cell_type": "code",
      "source": [
        "dct(np.array([1., 1., 1., 1.]), 1)"
      ],
      "metadata": {
        "colab": {
          "base_uri": "https://localhost:8080/"
        },
        "id": "dT5jpnoRdZ8X",
        "outputId": "4fee61ef-1de9-4a0d-e844-68603393e452"
      },
      "execution_count": 34,
      "outputs": [
        {
          "output_type": "execute_result",
          "data": {
            "text/plain": [
              "array([6., 0., 0., 0.])"
            ]
          },
          "metadata": {},
          "execution_count": 34
        }
      ]
    },
    {
      "cell_type": "code",
      "source": [
        "dct(np.array([1., 1., 1., 1.]), 2)"
      ],
      "metadata": {
        "colab": {
          "base_uri": "https://localhost:8080/"
        },
        "id": "Bdc-gczoeVqf",
        "outputId": "3c553afc-97b3-4da5-c839-806cbcd26dc0"
      },
      "execution_count": 35,
      "outputs": [
        {
          "output_type": "execute_result",
          "data": {
            "text/plain": [
              "array([8., 0., 0., 0.])"
            ]
          },
          "metadata": {},
          "execution_count": 35
        }
      ]
    },
    {
      "cell_type": "code",
      "source": [
        "dct(np.array([1., 1., 1., 1.]), 3)"
      ],
      "metadata": {
        "colab": {
          "base_uri": "https://localhost:8080/"
        },
        "id": "mVx2QpcxeWBK",
        "outputId": "40b2fadf-1bbc-4c16-8213-e9b71a098b10"
      },
      "execution_count": 36,
      "outputs": [
        {
          "output_type": "execute_result",
          "data": {
            "text/plain": [
              "array([ 5.02733949, -1.49660576,  0.66817864, -0.19891237])"
            ]
          },
          "metadata": {},
          "execution_count": 36
        }
      ]
    },
    {
      "cell_type": "code",
      "source": [
        "dct(np.array([1., 1., 1., 1.]), 4)"
      ],
      "metadata": {
        "colab": {
          "base_uri": "https://localhost:8080/"
        },
        "id": "0CClIvuKeWYm",
        "outputId": "25fb9632-af07-4d7c-daee-f36f4684eb3a"
      },
      "execution_count": 37,
      "outputs": [
        {
          "output_type": "execute_result",
          "data": {
            "text/plain": [
              "array([ 5.1258309 , -1.79995245,  1.20268977, -1.01959116])"
            ]
          },
          "metadata": {},
          "execution_count": 37
        }
      ]
    }
  ]
}