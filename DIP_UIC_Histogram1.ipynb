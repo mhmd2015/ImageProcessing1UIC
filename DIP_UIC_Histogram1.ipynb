{
  "nbformat": 4,
  "nbformat_minor": 0,
  "metadata": {
    "colab": {
      "provenance": [],
      "authorship_tag": "ABX9TyNKIccT+06p7iYQ2odOiuUJ",
      "include_colab_link": true
    },
    "kernelspec": {
      "name": "python3",
      "display_name": "Python 3"
    },
    "language_info": {
      "name": "python"
    }
  },
  "cells": [
    {
      "cell_type": "markdown",
      "metadata": {
        "id": "view-in-github",
        "colab_type": "text"
      },
      "source": [
        "<a href=\"https://colab.research.google.com/github/mhmd2015/ImageProcessing1UIC/blob/main/DIP_UIC_Histogram1.ipynb\" target=\"_parent\"><img src=\"https://colab.research.google.com/assets/colab-badge.svg\" alt=\"Open In Colab\"/></a>"
      ]
    },
    {
      "cell_type": "code",
      "execution_count": 15,
      "metadata": {
        "colab": {
          "base_uri": "https://localhost:8080/"
        },
        "id": "8nDJvIkptic9",
        "outputId": "da9f6734-35a6-4978-bcac-567217710182"
      },
      "outputs": [
        {
          "output_type": "stream",
          "name": "stdout",
          "text": [
            "4\n",
            "4\n",
            "2\n",
            "1\n",
            "0\n",
            "3\n",
            "4\n",
            "2\n",
            "1\n",
            "0\n",
            "2\n",
            "3\n",
            "2\n",
            "1\n",
            "0\n",
            "2\n",
            "2\n",
            "2\n",
            "1\n",
            "1\n",
            "2\n",
            "2\n",
            "2\n",
            "1\n",
            "1\n",
            "30.37\n",
            "11.16\n",
            "11.18\n",
            "4.58\n",
            "1.94\n",
            "0.00\n",
            "0.00\n",
            "-84.78\n"
          ]
        }
      ],
      "source": [
        "def construct_histogram(data):\n",
        "    bin_width = 45.0\n",
        "    bin_centers = [-157.5, -112.5, -67.5, -22.5, 22.5, 67.5, 112.5, 157.5]\n",
        "    histogram = [0] * len(bin_centers)\n",
        "\n",
        "    for orientation, magnitude in data:\n",
        "        # Handling orientations outside the [-180, 180) range\n",
        "        while orientation < -180:\n",
        "            orientation += 360\n",
        "        while orientation >= 180:\n",
        "            orientation -= 360\n",
        "\n",
        "        # Find the adjacent bin centers\n",
        "        for i in range(len(bin_centers)):\n",
        "            if bin_centers[i] > orientation:\n",
        "                break\n",
        "\n",
        "        # Calculate distances to adjacent bin centers\n",
        "        c1 = bin_centers[i-1]\n",
        "        c2 = bin_centers[i]\n",
        "        d1 = abs(orientation - c1)\n",
        "        d2 = abs(orientation - c2)\n",
        "\n",
        "\n",
        "        # Linear interpolation: distribute magnitude to adjacent bins\n",
        "        histogram[i-1] += magnitude * (1 - d1 / bin_width)\n",
        "        histogram[i] += magnitude * (1 - d2 / bin_width)\n",
        "\n",
        "        #v = magnitude * (1 - d2 / bin_width);\n",
        "        #print(f'{v:.2f}')\n",
        "        print(i)\n",
        "\n",
        "\n",
        "    return histogram\n",
        "\n",
        "# Test the function with your data\n",
        "data = [(5,1), (-5,2), (-80,1), (-150,4), (-160,5),\n",
        "        (-44,1), (-10,2), (-70,1), (-150,3), (-160,5),\n",
        "        (-88,2), (-45,2), (-75,1), (-148,3), (-160,4),\n",
        "        (-91,3), (-75,1), (-90,2), (-145,2), (-155,4),\n",
        "        (-92,3), (-85,1), (-93,2), (-140,2), (-150,3)]\n",
        "\n",
        "histogram = construct_histogram(data)\n",
        "#print(histogram)\n",
        "for i in range(len(histogram)):\n",
        "  print(f'{histogram[i]:.2f}')\n",
        "\n"
      ]
    }
  ]
}