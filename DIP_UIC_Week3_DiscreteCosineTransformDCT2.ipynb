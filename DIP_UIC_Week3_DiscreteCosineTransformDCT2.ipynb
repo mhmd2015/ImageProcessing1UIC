{
  "nbformat": 4,
  "nbformat_minor": 0,
  "metadata": {
    "colab": {
      "provenance": [],
      "authorship_tag": "ABX9TyPxO/vsG/VSQP/qbRj+3KHP",
      "include_colab_link": true
    },
    "kernelspec": {
      "name": "python3",
      "display_name": "Python 3"
    },
    "language_info": {
      "name": "python"
    }
  },
  "cells": [
    {
      "cell_type": "markdown",
      "metadata": {
        "id": "view-in-github",
        "colab_type": "text"
      },
      "source": [
        "<a href=\"https://colab.research.google.com/github/mhmd2015/ImageProcessing1UIC/blob/main/DIP_UIC_Week3_DiscreteCosineTransformDCT2.ipynb\" target=\"_parent\"><img src=\"https://colab.research.google.com/assets/colab-badge.svg\" alt=\"Open In Colab\"/></a>"
      ]
    },
    {
      "cell_type": "code",
      "execution_count": 1,
      "metadata": {
        "id": "vCXm4RFNfXTc"
      },
      "outputs": [],
      "source": [
        "from scipy.fftpack import fft, dct\n",
        "import numpy as np\n",
        "import cv2"
      ]
    },
    {
      "cell_type": "code",
      "source": [
        "# Load the image in grayscale\n",
        "img = cv2.imread('noise.jpeg', cv2.IMREAD_GRAYSCALE)"
      ],
      "metadata": {
        "id": "3Y_cu-O0fnqj"
      },
      "execution_count": 2,
      "outputs": []
    },
    {
      "cell_type": "code",
      "source": [
        "# Extract an 8x8 block from the top-left corner (or any other position you choose)\n",
        "block = img[0:8, 0:8]\n",
        "\n",
        "print(\"8x8 Block:\")\n",
        "print(block)"
      ],
      "metadata": {
        "colab": {
          "base_uri": "https://localhost:8080/"
        },
        "id": "uPQma4LkfsZD",
        "outputId": "4ceb5a9a-fa24-44ef-cca3-9ffb5dab8e06"
      },
      "execution_count": 3,
      "outputs": [
        {
          "output_type": "stream",
          "name": "stdout",
          "text": [
            "8x8 Block:\n",
            "[[ 14  29  22  19  32  22  21  16]\n",
            " [  8  16   0  29  13  23  12  40]\n",
            " [ 39   4  40  22 255  25   0   8]\n",
            " [  5  22  15   0  21  34  10  37]\n",
            " [ 21  20  15  28  24 251   9   5]\n",
            " [ 23  14  21  33  13   6  15  36]\n",
            " [ 19  23  26   4  20  40   7   9]\n",
            " [ 13  17  29  17  29   8 255  21]]\n"
          ]
        }
      ]
    },
    {
      "cell_type": "code",
      "source": [
        "# Compute the DCT using opencv\n",
        "dct_result = cv2.dct(np.float64(block))\n",
        "\n",
        "print(\"\\nDCT Result:\")\n",
        "print(dct_result)"
      ],
      "metadata": {
        "colab": {
          "base_uri": "https://localhost:8080/"
        },
        "id": "CIlzMDkQftBy",
        "outputId": "67237157-86a9-4ae6-e4d2-3ce4b736d11c"
      },
      "execution_count": 10,
      "outputs": [
        {
          "output_type": "stream",
          "name": "stdout",
          "text": [
            "\n",
            "DCT Result:\n",
            "[[ 240.5         -64.70989161  -46.98139059   68.76475435  -22.25\n",
            "   -16.83694328    0.24786761   25.82500392]\n",
            " [ -23.24467295   41.41119905  -48.18723855   -1.18141728   76.74442744\n",
            "   -83.58959608   29.44886041   -0.87866558]\n",
            " [ -10.2510634   -14.15885726   58.86663953  -57.47755078  -22.04694196\n",
            "    80.95453332 -102.26613447   60.58566381]\n",
            " [ -48.94689774   34.56774807   22.43412091  -12.51061139  -26.3742529\n",
            "    -3.49658574   79.33444737 -118.97582138]\n",
            " [  29.75        -54.01752836   32.8101551    27.26147512  -97.\n",
            "    55.02243053   -1.14290092  -41.18344015]\n",
            " [ -45.46203739   54.15475357   -3.22577878  -33.94938154   43.17754011\n",
            "   -47.56529042   -2.20068003   41.72155399]\n",
            " [  46.4594253    -0.24571536  -35.26613447    0.32913927   49.99244793\n",
            "    -0.32904237  -58.86663953  101.36726205]\n",
            " [  67.11158274   -0.83146137  -90.08401639   99.93579015   -4.92612134\n",
            "   -51.86034947   53.50123074    3.16470276]]\n"
          ]
        }
      ]
    },
    {
      "cell_type": "code",
      "source": [
        "# Compute the DCT using scipy\n",
        "dct_result = dct(block,2)\n",
        "\n",
        "print(\"\\nDCT Result:\")\n",
        "print(dct_result)"
      ],
      "metadata": {
        "colab": {
          "base_uri": "https://localhost:8080/"
        },
        "id": "BTnbAWWFfuoA",
        "outputId": "61c9ba04-857b-4c8d-c084-e413fe7eef70"
      },
      "execution_count": 9,
      "outputs": [
        {
          "output_type": "stream",
          "name": "stdout",
          "text": [
            "\n",
            "DCT Result:\n",
            "[[ 350.            4.3080243   -34.21073918    7.99750246  -18.38477631\n",
            "   -39.53305534  -27.15925855   15.83093227]\n",
            " [ 282.          -75.43184146   14.91338871  -27.43690232   55.15432893\n",
            "   -25.76990438   -4.64659414  -86.56307361]\n",
            " [ 786.           -6.78453879 -471.6719637   279.46256356  360.62445841\n",
            "  -355.01305747  -63.32107592  489.64106714]\n",
            " [ 288.          -72.12044963   25.79170367    2.70756753  -25.45584412\n",
            "  -101.4304976    47.48460826  -16.22232969]\n",
            " [ 746.         -210.99096697 -229.43368263  480.801131   -306.88434303\n",
            "   -89.22990381  418.01935993 -406.27959407]\n",
            " [ 322.           -2.69263664   25.55160157  -72.87439701   69.29646456\n",
            "    26.62823865    6.25425111  -18.24853075]\n",
            " [ 296.           24.42387637  -20.16217087   55.62673725  -62.22539674\n",
            "   -52.34328092   69.5807938    -5.77246119]\n",
            " [ 778.         -392.82031788  157.68810443   51.7001833  -323.85490578\n",
            "   446.20319257 -443.40778266  319.79055621]]\n"
          ]
        }
      ]
    }
  ]
}